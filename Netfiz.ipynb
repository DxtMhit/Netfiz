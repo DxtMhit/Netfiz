{
  "nbformat": 4,
  "nbformat_minor": 0,
  "metadata": {
    "colab": {
      "provenance": []
    },
    "kernelspec": {
      "name": "python3",
      "display_name": "Python 3"
    },
    "language_info": {
      "name": "python"
    }
  },
  "cells": [
    {
      "cell_type": "code",
      "source": [
        "import pandas as pd\n",
        "import matplotlib.pyplot as plt"
      ],
      "metadata": {
        "id": "u7m7fbXhaoXG"
      },
      "execution_count": 22,
      "outputs": []
    },
    {
      "cell_type": "code",
      "execution_count": 9,
      "metadata": {
        "colab": {
          "base_uri": "https://localhost:8080/"
        },
        "id": "f1-sMFSMZkdi",
        "outputId": "4c3c1faa-4be8-4084-ba0b-60b50dc045ac"
      },
      "outputs": [
        {
          "output_type": "stream",
          "name": "stdout",
          "text": [
            "The shape of the movies dataset is: (9742, 3)\n"
          ]
        }
      ],
      "source": [
        "''' Q What is the shape of \"movies.csv\" ? '''\n",
        "# Dataset loaded\n",
        "dfm = pd.read_csv('./movies.csv')\n",
        "\n",
        "# The shape of Dataset\n",
        "shape = dfm.shape\n",
        "\n",
        "print(f\"The shape of the movies dataset is: {shape}\")"
      ]
    },
    {
      "cell_type": "code",
      "source": [
        "''' Q What is the shape of \"ratings.csv\" ? '''\n",
        "# Loading the dataset\n",
        "dfr = pd.read_csv('./ratings.csv')\n",
        "\n",
        "# The shape of the dataset\n",
        "shape = dfr.shape\n",
        "\n",
        "print(f\"The shape of the ratings dataset is: {shape}\")"
      ],
      "metadata": {
        "colab": {
          "base_uri": "https://localhost:8080/"
        },
        "id": "vV8dWcqpZ_P0",
        "outputId": "f99681d9-7ff5-442a-d5bd-f0930267c239"
      },
      "execution_count": 10,
      "outputs": [
        {
          "output_type": "stream",
          "name": "stdout",
          "text": [
            "The shape of the ratings dataset is: (100836, 4)\n"
          ]
        }
      ]
    },
    {
      "cell_type": "code",
      "source": [
        "''' Q How many unique \"userId\" are available in \"ratings.csv\" ? '''\n",
        "# number of unique userId values\n",
        "unique_users = dfr['userId'].nunique()\n",
        "# Here we are using nunique() to count the number of unique values in the userId column.\n",
        "print(f\"The number of unique userId values is: {unique_users}\")"
      ],
      "metadata": {
        "colab": {
          "base_uri": "https://localhost:8080/"
        },
        "id": "swKl0bzhaNRB",
        "outputId": "2509c567-2344-4c26-f88a-b830a803dd89"
      },
      "execution_count": 11,
      "outputs": [
        {
          "output_type": "stream",
          "name": "stdout",
          "text": [
            "The number of unique userId values is: 610\n"
          ]
        }
      ]
    },
    {
      "cell_type": "code",
      "source": [
        "''' Q Which movie has recieved maximum number of user ratings ? '''\n",
        "\n",
        "# movieId with the maximum number of ratings\n",
        "most_rated_movie = dfr['movieId'].value_counts().idxmax()\n",
        "rating_count = dfr['movieId'].value_counts().max()\n",
        "\n",
        "# movie name using the movieId\n",
        "most_rated_movie_name = dfm.loc[dfm['movieId'] == most_rated_movie, 'title'].values[0]\n",
        "\n",
        "print(f\"The movie with ID {most_rated_movie} has received the maximum number of user ratings : {rating_count}, and its title is: {most_rated_movie_name}\")"
      ],
      "metadata": {
        "colab": {
          "base_uri": "https://localhost:8080/"
        },
        "id": "wJT7yUJLbXS-",
        "outputId": "21e69ecc-70dd-4cff-bcdb-76325845001d"
      },
      "execution_count": 19,
      "outputs": [
        {
          "output_type": "stream",
          "name": "stdout",
          "text": [
            "The movie with ID 356 has received the maximum number of user ratings : 329, and its title is: Forrest Gump (1994)\n"
          ]
        }
      ]
    },
    {
      "cell_type": "code",
      "source": [
        "''' Q Select all the correct tags submitted by users to \"Matrix, The (1999)\" movie ? '''\n",
        "\n",
        "# Loading the datasets\n",
        "dft = pd.read_csv('tags.csv')\n",
        "\n",
        "# Finding the movieId for \"Matrix, The (1999)\"\n",
        "matrix_movie_id = dfm.loc[dfm['title'] == \"Matrix, The (1999)\", 'movieId'].values[0]\n",
        "\n",
        "# Finding all tags associated with this movieId\n",
        "matrix_tags = dft.loc[dft['movieId'] == matrix_movie_id, 'tag'].unique()\n",
        "\n",
        "print(f\"The tags associated with 'Matrix, The (1999)' are: {matrix_tags}\")\n"
      ],
      "metadata": {
        "colab": {
          "base_uri": "https://localhost:8080/"
        },
        "id": "R6qdDkNfe_G2",
        "outputId": "56a45f89-34c7-43cb-ca76-ed35f1e8f700"
      },
      "execution_count": 20,
      "outputs": [
        {
          "output_type": "stream",
          "name": "stdout",
          "text": [
            "The tags associated with 'Matrix, The (1999)' are: ['martial arts' 'sci-fi' 'alternate universe' 'philosophy'\n",
            " 'post apocalyptic']\n"
          ]
        }
      ]
    },
    {
      "cell_type": "code",
      "source": [
        "''' Q What is the average user rating for movie named \"Terminator 2: Judgment Day (1991)\"?'''\n",
        "\n",
        "# Find the movieId for \"Terminator 2: Judgment Day (1991)\"\n",
        "terminator_movie_id = dfm.loc[dfm['title'] == \"Terminator 2: Judgment Day (1991)\", 'movieId'].values[0]\n",
        "\n",
        "# Filter ratings for this movieId and calculate the average rating\n",
        "average_rating = dfr.loc[dfr['movieId'] == terminator_movie_id, 'rating'].mean()\n",
        "\n",
        "print(f\"The average user rating for 'Terminator 2: Judgment Day (1991)' is: {average_rating:.2f}\")"
      ],
      "metadata": {
        "colab": {
          "base_uri": "https://localhost:8080/"
        },
        "id": "UR5LUjO8gjN8",
        "outputId": "b553a3b2-a562-4ef1-99a2-9f031f045750"
      },
      "execution_count": 21,
      "outputs": [
        {
          "output_type": "stream",
          "name": "stdout",
          "text": [
            "The average user rating for 'Terminator 2: Judgment Day (1991)' is: 3.97\n"
          ]
        }
      ]
    },
    {
      "cell_type": "code",
      "source": [
        "''' Q How does the data distribution of user ratings for \"Fight Club (1999)\" movie looks like ? '''\n",
        "\n",
        "# Find the movieId for \"Fight Club (1999)\"\n",
        "fight_club_movie_id = dfm.loc[dfm['title'] == \"Fight Club (1999)\", 'movieId'].values[0]\n",
        "\n",
        "# Filter ratings for this movieId\n",
        "fight_club_ratings = dfr.loc[dfr['movieId'] == fight_club_movie_id, 'rating']\n",
        "\n",
        "# Plot the distribution of ratings\n",
        "plt.figure(figsize=(10, 6))\n",
        "plt.hist(fight_club_ratings, bins=10, edgecolor='black', alpha=0.7)\n",
        "plt.title('Distribution of User Ratings for \"Fight Club (1999)\"')\n",
        "plt.xlabel('Rating')\n",
        "plt.ylabel('Frequency')\n",
        "plt.xticks([0.5 * i for i in range(11)])  # Set x-ticks to correspond to rating values (e.g., 0.5, 1.0, ..., 5.0)\n",
        "plt.grid(axis='y', linestyle='--', alpha=0.7)\n",
        "plt.show()"
      ],
      "metadata": {
        "colab": {
          "base_uri": "https://localhost:8080/",
          "height": 564
        },
        "id": "_mgb9lFxg3he",
        "outputId": "e2b314fb-6b32-4af3-9688-68a6606989d0"
      },
      "execution_count": 23,
      "outputs": [
        {
          "output_type": "display_data",
          "data": {
            "text/plain": [
              "<Figure size 1000x600 with 1 Axes>"
            ],
            "image/png": "[encoded data removed]"
          },
          "metadata": {}
        }
      ]
    },
    {
      "cell_type": "markdown",
      "source": [
        "    \n",
        "    As we can see above it looks like Right-skewed Distribution."
      ],
      "metadata": {
        "id": "pVT7U2GUhnI-"
      }
    },
    {
      "cell_type": "code",
      "source": [
        "''' Mandatory Operations '''\n",
        "\n",
        "# Group by movieId and aggregate\n",
        "grouped_ratings_df = dfr.groupby('movieId').agg(\n",
        "    rating_count=('rating', 'count'),\n",
        "    average_rating=('rating', 'mean')\n",
        ").reset_index()\n",
        "\n",
        "# Merge the grouped ratings with the movies data\n",
        "merged_df = pd.merge(grouped_ratings_df, dfm, on='movieId')\n",
        "\n",
        "# Filter movies with more than 50 ratings\n",
        "filtered_movies_df = merged_df[merged_df['rating_count'] > 50]"
      ],
      "metadata": {
        "id": "UF2N_4nnhcIU"
      },
      "execution_count": 26,
      "outputs": []
    },
    {
      "cell_type": "code",
      "source": [
        "''' Q Which movie is the most popular based on  average user ratings ? '''\n",
        "\n",
        "# Sort the filtered movies DataFrame by average_rating in descending order\n",
        "sorted_movies_df = filtered_movies_df.sort_values(by='average_rating', ascending=False)\n",
        "\n",
        "# Getting the most popular movie based on average user ratings\n",
        "most_popular_movie = sorted_movies_df.iloc[0]\n",
        "\n",
        "# Extracting the movie details\n",
        "most_popular_movie_title = most_popular_movie['title']\n",
        "most_popular_movie_rating = most_popular_movie['average_rating']\n",
        "\n",
        "most_popular_movie_title, most_popular_movie_rating"
      ],
      "metadata": {
        "colab": {
          "base_uri": "https://localhost:8080/"
        },
        "id": "mRxz2oNui2RS",
        "outputId": "2fc8afc3-0fc6-4acb-fed4-7358e27411f4"
      },
      "execution_count": 27,
      "outputs": [
        {
          "output_type": "execute_result",
          "data": {
            "text/plain": [
              "('Shawshank Redemption, The (1994)', 4.429022082018927)"
            ]
          },
          "metadata": {},
          "execution_count": 27
        }
      ]
    },
    {
      "cell_type": "code",
      "source": [
        "''' Q Top 5 movies '''\n",
        "\n",
        "# Sort the filtered movies DataFrame by rating_count in descending order\n",
        "sorted_by_ratings_df = filtered_movies_df.sort_values(by='rating_count', ascending=False)\n",
        "\n",
        "# Get the top 5 movies based on the number of user ratings\n",
        "top_5_movies = sorted_by_ratings_df.head(5)\n",
        "\n",
        "# Extract relevant details for display\n",
        "top_5_movies_summary = top_5_movies[['title', 'rating_count']]\n",
        "\n",
        "top_5_movies_summary\n"
      ],
      "metadata": {
        "colab": {
          "base_uri": "https://localhost:8080/",
          "height": 206
        },
        "id": "HOZmibS2jOPn",
        "outputId": "2df87057-13c3-40f7-e872-e907721630a2"
      },
      "execution_count": 28,
      "outputs": [
        {
          "output_type": "execute_result",
          "data": {
            "text/plain": [
              "                                 title  rating_count\n",
              "314                Forrest Gump (1994)           329\n",
              "277   Shawshank Redemption, The (1994)           317\n",
              "257                Pulp Fiction (1994)           307\n",
              "510   Silence of the Lambs, The (1991)           279\n",
              "1938                Matrix, The (1999)           278"
            ],
            "text/html": [
              "\n",
              "  <div id=\"df-df4bd5d3-4b01-4dd8-8c92-c9211358968f\" class=\"colab-df-container\">\n",
              "    <div>\n",
              "<style scoped>\n",
              "    .dataframe tbody tr th:only-of-type {\n",
              "        vertical-align: middle;\n",
              "    }\n",
              "\n",
              "    .dataframe tbody tr th {\n",
              "        vertical-align: top;\n",
              "    }\n",
              "\n",
              "    .dataframe thead th {\n",
              "        text-align: right;\n",
              "    }\n",
              "</style>\n",
              "<table border=\"1\" class=\"dataframe\">\n",
              "  <thead>\n",
              "    <tr style=\"text-align: right;\">\n",
              "      <th></th>\n",
              "      <th>title</th>\n",
              "      <th>rating_count</th>\n",
              "    </tr>\n",
              "  </thead>\n",
              "  <tbody>\n",
              "    <tr>\n",
              "      <th>314</th>\n",
              "      <td>Forrest Gump (1994)</td>\n",
              "      <td>329</td>\n",
              "    </tr>\n",
              "    <tr>\n",
              "      <th>277</th>\n",
              "      <td>Shawshank Redemption, The (1994)</td>\n",
              "      <td>317</td>\n",
              "    </tr>\n",
              "    <tr>\n",
              "      <th>257</th>\n",
              "      <td>Pulp Fiction (1994)</td>\n",
              "      <td>307</td>\n",
              "    </tr>\n",
              "    <tr>\n",
              "      <th>510</th>\n",
              "      <td>Silence of the Lambs, The (1991)</td>\n",
              "      <td>279</td>\n",
              "    </tr>\n",
              "    <tr>\n",
              "      <th>1938</th>\n",
              "      <td>Matrix, The (1999)</td>\n",
              "      <td>278</td>\n",
              "    </tr>\n",
              "  </tbody>\n",
              "</table>\n",
              "</div>\n",
              "    <div class=\"colab-df-buttons\">\n",
              "\n",
              "  <div class=\"colab-df-container\">\n",
              "    <button class=\"colab-df-convert\" onclick=\"convertToInteractive('df-df4bd5d3-4b01-4dd8-8c92-c9211358968f')\"\n",
              "            title=\"Convert this dataframe to an interactive table.\"\n",
              "            style=\"display:none;\">\n",
              "\n",
              "  <svg xmlns=\"http://www.w3.org/2000/svg\" height=\"24px\" viewBox=\"0 -960 960 960\">\n",
              "    <path d=\"M120-120v-720h720v720H120Zm60-500h600v-160H180v160Zm220 220h160v-160H400v160Zm0 220h160v-160H400v160ZM180-400h160v-160H180v160Zm440 0h160v-160H620v160ZM180-180h160v-160H180v160Zm440 0h160v-160H620v160Z\"/>\n",
              "  </svg>\n",
              "    </button>\n",
              "\n",
              "  <style>\n",
              "    .colab-df-container {\n",
              "      display:flex;\n",
              "      gap: 12px;\n",
              "    }\n",
              "\n",
              "    .colab-df-convert {\n",
              "      background-color: #E8F0FE;\n",
              "      border: none;\n",
              "      border-radius: 50%;\n",
              "      cursor: pointer;\n",
              "      display: none;\n",
              "      fill: #1967D2;\n",
              "      height: 32px;\n",
              "      padding: 0 0 0 0;\n",
              "      width: 32px;\n",
              "    }\n",
              "\n",
              "    .colab-df-convert:hover {\n",
              "      background-color: #E2EBFA;\n",
              "      box-shadow: 0px 1px 2px rgba(60, 64, 67, 0.3), 0px 1px 3px 1px rgba(60, 64, 67, 0.15);\n",
              "      fill: #174EA6;\n",
              "    }\n",
              "\n",
              "    .colab-df-buttons div {\n",
              "      margin-bottom: 4px;\n",
              "    }\n",
              "\n",
              "    [theme=dark] .colab-df-convert {\n",
              "      background-color: #3B4455;\n",
              "      fill: #D2E3FC;\n",
              "    }\n",
              "\n",
              "    [theme=dark] .colab-df-convert:hover {\n",
              "      background-color: #434B5C;\n",
              "      box-shadow: 0px 1px 3px 1px rgba(0, 0, 0, 0.15);\n",
              "      filter: drop-shadow(0px 1px 2px rgba(0, 0, 0, 0.3));\n",
              "      fill: #FFFFFF;\n",
              "    }\n",
              "  </style>\n",
              "\n",
              "    <script>\n",
              "      const buttonEl =\n",
              "        document.querySelector('#df-df4bd5d3-4b01-4dd8-8c92-c9211358968f button.colab-df-convert');\n",
              "      buttonEl.style.display =\n",
              "        google.colab.kernel.accessAllowed ? 'block' : 'none';\n",
              "\n",
              "      async function convertToInteractive(key) {\n",
              "        const element = document.querySelector('#df-df4bd5d3-4b01-4dd8-8c92-c9211358968f');\n",
              "        const dataTable =\n",
              "          await google.colab.kernel.invokeFunction('convertToInteractive',\n",
              "                                                    [key], {});\n",
              "        if (!dataTable) return;\n",
              "\n",
              "        const docLinkHtml = 'Like what you see? Visit the ' +\n",
              "          '<a target=\"_blank\" href=https://colab.research.google.com/notebooks/data_table.ipynb>data table notebook</a>'\n",
              "          + ' to learn more about interactive tables.';\n",
              "        element.innerHTML = '';\n",
              "        dataTable['output_type'] = 'display_data';\n",
              "        await google.colab.output.renderOutput(dataTable, element);\n",
              "        const docLink = document.createElement('div');\n",
              "        docLink.innerHTML = docLinkHtml;\n",
              "        element.appendChild(docLink);\n",
              "      }\n",
              "    </script>\n",
              "  </div>\n",
              "\n",
              "\n",
              "<div id=\"df-cf4901d2-5a7a-4ee0-b62b-d9bdaec8c613\">\n",
              "  <button class=\"colab-df-quickchart\" onclick=\"quickchart('df-cf4901d2-5a7a-4ee0-b62b-d9bdaec8c613')\"\n",
              "            title=\"Suggest charts\"\n",
              "            style=\"display:none;\">\n",
              "\n",
              "<svg xmlns=\"http://www.w3.org/2000/svg\" height=\"24px\"viewBox=\"0 0 24 24\"\n",
              "     width=\"24px\">\n",
              "    <g>\n",
              "        <path d=\"M19 3H5c-1.1 0-2 .9-2 2v14c0 1.1.9 2 2 2h14c1.1 0 2-.9 2-2V5c0-1.1-.9-2-2-2zM9 17H7v-7h2v7zm4 0h-2V7h2v10zm4 0h-2v-4h2v4z\"/>\n",
              "    </g>\n",
              "</svg>\n",
              "  </button>\n",
              "\n",
              "<style>\n",
              "  .colab-df-quickchart {\n",
              "      --bg-color: #E8F0FE;\n",
              "      --fill-color: #1967D2;\n",
              "      --hover-bg-color: #E2EBFA;\n",
              "      --hover-fill-color: #174EA6;\n",
              "      --disabled-fill-color: #AAA;\n",
              "      --disabled-bg-color: #DDD;\n",
              "  }\n",
              "\n",
              "  [theme=dark] .colab-df-quickchart {\n",
              "      --bg-color: #3B4455;\n",
              "      --fill-color: #D2E3FC;\n",
              "      --hover-bg-color: #434B5C;\n",
              "      --hover-fill-color: #FFFFFF;\n",
              "      --disabled-bg-color: #3B4455;\n",
              "      --disabled-fill-color: #666;\n",
              "  }\n",
              "\n",
              "  .colab-df-quickchart {\n",
              "    background-color: var(--bg-color);\n",
              "    border: none;\n",
              "    border-radius: 50%;\n",
              "    cursor: pointer;\n",
              "    display: none;\n",
              "    fill: var(--fill-color);\n",
              "    height: 32px;\n",
              "    padding: 0;\n",
              "    width: 32px;\n",
              "  }\n",
              "\n",
              "  .colab-df-quickchart:hover {\n",
              "    background-color: var(--hover-bg-color);\n",
              "    box-shadow: 0 1px 2px rgba(60, 64, 67, 0.3), 0 1px 3px 1px rgba(60, 64, 67, 0.15);\n",
              "    fill: var(--button-hover-fill-color);\n",
              "  }\n",
              "\n",
              "  .colab-df-quickchart-complete:disabled,\n",
              "  .colab-df-quickchart-complete:disabled:hover {\n",
              "    background-color: var(--disabled-bg-color);\n",
              "    fill: var(--disabled-fill-color);\n",
              "    box-shadow: none;\n",
              "  }\n",
              "\n",
              "  .colab-df-spinner {\n",
              "    border: 2px solid var(--fill-color);\n",
              "    border-color: transparent;\n",
              "    border-bottom-color: var(--fill-color);\n",
              "    animation:\n",
              "      spin 1s steps(1) infinite;\n",
              "  }\n",
              "\n",
              "  @keyframes spin {\n",
              "    0% {\n",
              "      border-color: transparent;\n",
              "      border-bottom-color: var(--fill-color);\n",
              "      border-left-color: var(--fill-color);\n",
              "    }\n",
              "    20% {\n",
              "      border-color: transparent;\n",
              "      border-left-color: var(--fill-color);\n",
              "      border-top-color: var(--fill-color);\n",
              "    }\n",
              "    30% {\n",
              "      border-color: transparent;\n",
              "      border-left-color: var(--fill-color);\n",
              "      border-top-color: var(--fill-color);\n",
              "      border-right-color: var(--fill-color);\n",
              "    }\n",
              "    40% {\n",
              "      border-color: transparent;\n",
              "      border-right-color: var(--fill-color);\n",
              "      border-top-color: var(--fill-color);\n",
              "    }\n",
              "    60% {\n",
              "      border-color: transparent;\n",
              "      border-right-color: var(--fill-color);\n",
              "    }\n",
              "    80% {\n",
              "      border-color: transparent;\n",
              "      border-right-color: var(--fill-color);\n",
              "      border-bottom-color: var(--fill-color);\n",
              "    }\n",
              "    90% {\n",
              "      border-color: transparent;\n",
              "      border-bottom-color: var(--fill-color);\n",
              "    }\n",
              "  }\n",
              "</style>\n",
              "\n",
              "  <script>\n",
              "    async function quickchart(key) {\n",
              "      const quickchartButtonEl =\n",
              "        document.querySelector('#' + key + ' button');\n",
              "      quickchartButtonEl.disabled = true;  // To prevent multiple clicks.\n",
              "      quickchartButtonEl.classList.add('colab-df-spinner');\n",
              "      try {\n",
              "        const charts = await google.colab.kernel.invokeFunction(\n",
              "            'suggestCharts', [key], {});\n",
              "      } catch (error) {\n",
              "        console.error('Error during call to suggestCharts:', error);\n",
              "      }\n",
              "      quickchartButtonEl.classList.remove('colab-df-spinner');\n",
              "      quickchartButtonEl.classList.add('colab-df-quickchart-complete');\n",
              "    }\n",
              "    (() => {\n",
              "      let quickchartButtonEl =\n",
              "        document.querySelector('#df-cf4901d2-5a7a-4ee0-b62b-d9bdaec8c613 button');\n",
              "      quickchartButtonEl.style.display =\n",
              "        google.colab.kernel.accessAllowed ? 'block' : 'none';\n",
              "    })();\n",
              "  </script>\n",
              "</div>\n",
              "\n",
              "  <div id=\"id_353bdf07-dc01-4038-bfbf-82ac805a8417\">\n",
              "    <style>\n",
              "      .colab-df-generate {\n",
              "        background-color: #E8F0FE;\n",
              "        border: none;\n",
              "        border-radius: 50%;\n",
              "        cursor: pointer;\n",
              "        display: none;\n",
              "        fill: #1967D2;\n",
              "        height: 32px;\n",
              "        padding: 0 0 0 0;\n",
              "        width: 32px;\n",
              "      }\n",
              "\n",
              "      .colab-df-generate:hover {\n",
              "        background-color: #E2EBFA;\n",
              "        box-shadow: 0px 1px 2px rgba(60, 64, 67, 0.3), 0px 1px 3px 1px rgba(60, 64, 67, 0.15);\n",
              "        fill: #174EA6;\n",
              "      }\n",
              "\n",
              "      [theme=dark] .colab-df-generate {\n",
              "        background-color: #3B4455;\n",
              "        fill: #D2E3FC;\n",
              "      }\n",
              "\n",
              "      [theme=dark] .colab-df-generate:hover {\n",
              "        background-color: #434B5C;\n",
              "        box-shadow: 0px 1px 3px 1px rgba(0, 0, 0, 0.15);\n",
              "        filter: drop-shadow(0px 1px 2px rgba(0, 0, 0, 0.3));\n",
              "        fill: #FFFFFF;\n",
              "      }\n",
              "    </style>\n",
              "    <button class=\"colab-df-generate\" onclick=\"generateWithVariable('top_5_movies_summary')\"\n",
              "            title=\"Generate code using this dataframe.\"\n",
              "            style=\"display:none;\">\n",
              "\n",
              "  <svg xmlns=\"http://www.w3.org/2000/svg\" height=\"24px\"viewBox=\"0 0 24 24\"\n",
              "       width=\"24px\">\n",
              "    <path d=\"M7,19H8.4L18.45,9,17,7.55,7,17.6ZM5,21V16.75L18.45,3.32a2,2,0,0,1,2.83,0l1.4,1.43a1.91,1.91,0,0,1,.58,1.4,1.91,1.91,0,0,1-.58,1.4L9.25,21ZM18.45,9,17,7.55Zm-12,3A5.31,5.31,0,0,0,4.9,8.1,5.31,5.31,0,0,0,1,6.5,5.31,5.31,0,0,0,4.9,4.9,5.31,5.31,0,0,0,6.5,1,5.31,5.31,0,0,0,8.1,4.9,5.31,5.31,0,0,0,12,6.5,5.46,5.46,0,0,0,6.5,12Z\"/>\n",
              "  </svg>\n",
              "    </button>\n",
              "    <script>\n",
              "      (() => {\n",
              "      const buttonEl =\n",
              "        document.querySelector('#id_353bdf07-dc01-4038-bfbf-82ac805a8417 button.colab-df-generate');\n",
              "      buttonEl.style.display =\n",
              "        google.colab.kernel.accessAllowed ? 'block' : 'none';\n",
              "\n",
              "      buttonEl.onclick = () => {\n",
              "        google.colab.notebook.generateWithVariable('top_5_movies_summary');\n",
              "      }\n",
              "      })();\n",
              "    </script>\n",
              "  </div>\n",
              "\n",
              "    </div>\n",
              "  </div>\n"
            ],
            "application/vnd.google.colaboratory.intrinsic+json": {
              "type": "dataframe",
              "variable_name": "top_5_movies_summary",
              "summary": "{\n  \"name\": \"top_5_movies_summary\",\n  \"rows\": 5,\n  \"fields\": [\n    {\n      \"column\": \"title\",\n      \"properties\": {\n        \"dtype\": \"string\",\n        \"num_unique_values\": 5,\n        \"samples\": [\n          \"Shawshank Redemption, The (1994)\",\n          \"Matrix, The (1999)\",\n          \"Pulp Fiction (1994)\"\n        ],\n        \"semantic_type\": \"\",\n        \"description\": \"\"\n      }\n    },\n    {\n      \"column\": \"rating_count\",\n      \"properties\": {\n        \"dtype\": \"number\",\n        \"std\": 22,\n        \"min\": 278,\n        \"max\": 329,\n        \"num_unique_values\": 5,\n        \"samples\": [\n          317,\n          278,\n          307\n        ],\n        \"semantic_type\": \"\",\n        \"description\": \"\"\n      }\n    }\n  ]\n}"
            }
          },
          "metadata": {},
          "execution_count": 28
        }
      ]
    },
    {
      "cell_type": "code",
      "source": [
        "''' Q Which Sci-Fi movie is \"third most popular\" based on the number of user ratings? '''\n",
        "\n",
        "# First, filter for Sci-Fi movies\n",
        "sci_fi_movies_df = filtered_movies_df[filtered_movies_df['genres'].str.contains('Sci-Fi', case=False)]\n",
        "\n",
        "# Sort the Sci-Fi movies by rating_count in descending order\n",
        "sorted_sci_fi_df = sci_fi_movies_df.sort_values(by='rating_count', ascending=False)\n",
        "\n",
        "# Get the third most popular Sci-Fi movie\n",
        "third_most_popular_sci_fi = sorted_sci_fi_df.iloc[2]  # Index 2 corresponds to the third item\n",
        "\n",
        "# Extract relevant details for display\n",
        "third_most_popular_sci_fi_title = third_most_popular_sci_fi['title']\n",
        "third_most_popular_sci_fi_rating_count = third_most_popular_sci_fi['rating_count']\n",
        "\n",
        "third_most_popular_sci_fi_title, third_most_popular_sci_fi_rating_count\n"
      ],
      "metadata": {
        "colab": {
          "base_uri": "https://localhost:8080/"
        },
        "id": "iYBnmLtzjwSG",
        "outputId": "fd667592-3619-42bf-bfdd-62b20683ca70"
      },
      "execution_count": 30,
      "outputs": [
        {
          "output_type": "execute_result",
          "data": {
            "text/plain": [
              "('Jurassic Park (1993)', 238)"
            ]
          },
          "metadata": {},
          "execution_count": 30
        }
      ]
    },
    {
      "cell_type": "code",
      "source": [
        "''' Q Web Scraping '''\n",
        "\n",
        "import requests\n",
        "import numpy as np\n",
        "from bs4 import BeautifulSoup\n",
        "\n",
        "def scrapper(imdbId):\n",
        "    id = str(int(imdbId))\n",
        "    n_zeroes = 7 - len(id)\n",
        "    new_id = \"0\" * n_zeroes + id\n",
        "    URL = f\"https://www.imdb.com/title/tt{new_id}/\"\n",
        "    request_header = {\n",
        "        'Content-Type': 'text/html; charset=UTF-8',\n",
        "        'User-Agent': 'Mozilla/5.0 (Windows NT 10.0; Win64; x64; rv:109.0) Gecko/20100101 Firefox/119.0',\n",
        "        'Accept-Encoding': 'gzip, deflate, br'\n",
        "    }\n",
        "    response = requests.get(URL, headers=request_header)\n",
        "    soup = BeautifulSoup(response.text, 'html.parser')\n",
        "    imdb_rating = soup.find('span', attrs={'itemprop': 'ratingValue'})\n",
        "    return imdb_rating.text if imdb_rating else np.nan\n",
        "\n"
      ],
      "metadata": {
        "id": "5tpbPG38ksBa"
      },
      "execution_count": 36,
      "outputs": []
    }
  ]
}